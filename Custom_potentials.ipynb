{
 "cells": [
  {
   "cell_type": "markdown",
   "metadata": {},
   "source": [
    "# Custom Potentials\n",
    "\n",
    "For development work, you may be applying operators that are not directly supported by PhaseFunc (most efficient because the entries are generated on the fly and never stored). Sometimes you can reinterpret your operator such that it matches an existing PhaseFunc. If not, there are a couple ways around it:\n",
    "- just load the contents of the register into a `numpy.ndarray`, manipulate it in python, and load it back into the register during your SO-QFT loop. BE WARNED - pulling the state out of the qubits, modifying, then putting it back in is a very slow process.\n",
    "- there are two ways to implement arbitary operators on `pyQuEST`:\n",
    "    1. `DiagonalOperator`, an operator which acts on the entire $n$-qubit QuEST register, generated from only a flattened 1D array of the diagonal elements length $2^{n}$. The operator object is only of the same size as the statevector\n",
    "    2. `MatrixOperator`, a matrix that is multiplied onto any specified target qubits. In the real space picture, if you don't have a huge number of qubits and your operators are separable by e.g. particle registers, this might be a good place to start. But you won't be able to store many such matricies if your system is large!"
   ]
  },
  {
   "cell_type": "code",
   "execution_count": 1,
   "metadata": {},
   "outputs": [],
   "source": [
    "import pyquest\n",
    "import numpy as np\n",
    "import math\n",
    "from numpy.polynomial.hermite import hermval"
   ]
  },
  {
   "cell_type": "code",
   "execution_count": null,
   "metadata": {},
   "outputs": [],
   "source": [
    "def harmonic_osc_1D(x, n, m, k, xc):\n",
    "    \"\"\"Generates the eigenfunction of the harmonic oscillator system.\n",
    "    Arguments\n",
    "    x: is a space coordinate.\n",
    "    n: is the vibrational quantum number, for this case only v=0 is considered.\n",
    "    m: is the (reduced) mass of the system.\n",
    "    k: is the force constant of the harmonic potential.\n",
    "    xc: is the equilibrium separation.\n",
    "    \"\"\"\n",
    "\n",
    "    hermite_sum = np.zeros(n+1)\n",
    "    hermite_sum[-1] = 1\n",
    "\n",
    "    return 1/(2**n * math.factorial(n))**0.5 * (((m*k)**0.5)/np.pi)**0.25 * np.exp(-(x-xc)**2 * ((m*k)**0.5)/2) * hermval((m*k)**0.25 * (x-xc),hermite_sum)"
   ]
  },
  {
   "cell_type": "code",
   "execution_count": null,
   "metadata": {},
   "outputs": [],
   "source": [
    "# define spatial grid\n",
    "L = 15 # box size is 10\n",
    "n_qubits = 5 # per spatial dimension!\n",
    "\n",
    "dx = L/(2**n_qubits)\n",
    "x_grid = np.array([dx*n for n in range(int(2**n_qubits))])\n",
    "\n",
    "# define wavefunction in 1D\n",
    "psi_x = harmonic_osc_1D(x_grid, n=0, m=1, k=0.1, xc=L/2)\n",
    "psi_2D = np.tensordot(psi_x, psi_x, axes=0)"
   ]
  },
  {
   "cell_type": "code",
   "execution_count": null,
   "metadata": {},
   "outputs": [],
   "source": [
    "from pyquest import Register\n",
    "\n",
    "reg_init = Register(n_qubits + n_qubits) # 2x5 qubits!\n",
    "reg_init[:] = psi_2D.flatten()"
   ]
  },
  {
   "cell_type": "code",
   "execution_count": null,
   "metadata": {},
   "outputs": [],
   "source": [
    "from qarsen_lite.unitaries import gen_QFT_circ, gen_Quadratic_PhaseFunc"
   ]
  },
  {
   "cell_type": "code",
   "execution_count": null,
   "metadata": {},
   "outputs": [],
   "source": [
    "from pyquest.operators import MatrixOperator"
   ]
  },
  {
   "cell_type": "code",
   "execution_count": null,
   "metadata": {},
   "outputs": [],
   "source": [
    "def gen_propagators(n_qubits, dx, xc, dt, m, k):\n",
    "    \"\"\"\n",
    "    Specific for 1 particle in 2D harmonic potential, first order trotter - edit as necessary to generalise\n",
    "    \"\"\"\n",
    "    # qubit targets\n",
    "    init_qbit_idx = 0\n",
    "    targets = []\n",
    "    for _ in range(2):\n",
    "        targets.append(list(range(init_qbit_idx, init_qbit_idx+n_qubits)))\n",
    "        init_qbit_idx += n_qubits\n",
    "    \n",
    "    # QFT circuits\n",
    "    cQFT_circs = [gen_QFT_circ(targets[d][0], targets[d][-1]) for d in range(2)]\n",
    "    icQFT_circs = [circ.inverse for circ in cQFT_circs]\n",
    "    # Kinetic propagator\n",
    "    dp = 2*np.pi/(2**n_qubits * dx)\n",
    "    pc = 2**n_qubits * dp / 2 # calculate the centre of the momentum space\n",
    "    coeff = -dt/2*m\n",
    "    K_props = [gen_Quadratic_PhaseFunc(targets[d], dp, coeff, pc) for d in range(2)]\n",
    "\n",
    "    # Potential \n",
    "    coeff = -k*dt/2\n",
    "    x_grid = [n*dx for n in range(int(2**n_qubits))]\n",
    "    expV_array = np.exp(-1j * coeff * (x_grid-xc)**2) # define custom potential propagator\n",
    "\n",
    "    V_props = [MatrixOperator(targets[d], expV_array) for d in range(2)]\n",
    "\n",
    "    return cQFT_circs, icQFT_circs, K_props, V_props"
   ]
  },
  {
   "cell_type": "code",
   "execution_count": null,
   "metadata": {},
   "outputs": [],
   "source": [
    "def apply_single_step(reg, qft_circs, iqft_circs, K_props, V_props):\n",
    "    \"\"\"\n",
    "    \"\"\"\n",
    "    for qft in qft_circs:\n",
    "        reg.apply_circuit(qft)\n",
    "    for k in K_props:\n",
    "        reg.apply_operator(k)\n",
    "    for iqft in reversed(iqft_circs):\n",
    "        reg.apply_circuit(iqft)\n",
    "    \n",
    "    for v in V_props:\n",
    "        reg.apply_operator(v)"
   ]
  },
  {
   "cell_type": "code",
   "execution_count": null,
   "metadata": {},
   "outputs": [],
   "source": [
    "def U_RTE(reg_init, n_qubits, dx, t_tot, n_steps, xc, m, k, sample_every=10):\n",
    "    \"\"\"\n",
    "    \"\"\"\n",
    "    dt = t_tot/n_steps # time resolution\n",
    "    reg = Register(copy_reg=reg_init) # copy initial register\n",
    "    Qft, iQft, K, V = gen_propagators(n_qubits, dx, xc, dt, m, k) # generate propagators\n",
    "\n",
    "    autocorrelation = []\n",
    "    print(\"Running SO-QFT propagation...\")\n",
    "    for n in range(n_steps):\n",
    "        apply_single_step(reg, Qft, iQft, K, V)\n",
    "\n",
    "        # saving autocorrelation\n",
    "        if n%sample_every==0:\n",
    "            autocorrelation.append(reg*reg_init)\n",
    "    print(\"Done!\")\n",
    "    return autocorrelation"
   ]
  }
 ],
 "metadata": {
  "kernelspec": {
   "display_name": "Python 3.8.13 ('pyquest')",
   "language": "python",
   "name": "python3"
  },
  "language_info": {
   "codemirror_mode": {
    "name": "ipython",
    "version": 3
   },
   "file_extension": ".py",
   "mimetype": "text/x-python",
   "name": "python",
   "nbconvert_exporter": "python",
   "pygments_lexer": "ipython3",
   "version": "3.8.13"
  },
  "orig_nbformat": 4,
  "vscode": {
   "interpreter": {
    "hash": "efe4c595800231d0178754137df9309e1f59ec3df698cd3426979062ad7251ea"
   }
  }
 },
 "nbformat": 4,
 "nbformat_minor": 2
}
